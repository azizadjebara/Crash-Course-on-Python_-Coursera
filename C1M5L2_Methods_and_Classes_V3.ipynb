{
  "nbformat": 4,
  "nbformat_minor": 0,
  "metadata": {
    "kernelspec": {
      "display_name": "Python 3",
      "language": "python",
      "name": "python3"
    },
    "language_info": {
      "codemirror_mode": {
        "name": "ipython",
        "version": 3
      },
      "file_extension": ".py",
      "mimetype": "text/x-python",
      "name": "python",
      "nbconvert_exporter": "python",
      "pygments_lexer": "ipython3",
      "version": "3.8.2-final"
    },
    "colab": {
      "name": "C1M5L2_Methods_and_Classes_V3.ipynb",
      "provenance": []
    }
  },
  "cells": [
    {
      "cell_type": "markdown",
      "metadata": {
        "id": "jnzx-HH0DaQ9"
      },
      "source": [
        "# Practice Notebook: Methods and Classes"
      ]
    },
    {
      "cell_type": "markdown",
      "metadata": {
        "id": "Z3WbuePKDaRP"
      },
      "source": [
        "The code below defines an *Elevator* class. The elevator has a current floor, it also has a top and a bottom floor that are the minimum and maximum floors it can go to. Fill in the blanks to make the elevator go through the floors requested."
      ]
    },
    {
      "cell_type": "code",
      "metadata": {
        "id": "C3T3jd1RDaRS"
      },
      "source": [
        "class Elevator:\n",
        "    def __init__(self, bottom, top, current):\n",
        "        \"\"\"Initializes the Elevator instance.\"\"\"\n",
        "        self.bottom = bottom\n",
        "        self.top = top\n",
        "        self.current = current\n",
        "\n",
        "    def up(self):\n",
        "        \"\"\"Makes the elevator go up one floor.\"\"\"\n",
        "        if self.current < self.top:\n",
        "            self.current += 1\n",
        "        else: \n",
        "            self.current \n",
        "\n",
        "    def down(self):\n",
        "        \"\"\"Makes the elevator go down one floor.\"\"\"\n",
        "        if self.current > self.bottom:\n",
        "            self.current -= 1\n",
        "        else: \n",
        "            self.current \n",
        "\n",
        "    def go_to(self, floor):\n",
        "        \"\"\"Makes the elevator go to the specific floor.\"\"\"\n",
        "        self.current = floor\n",
        "\n",
        "    def current(self):\n",
        "        return self.current\n",
        "\n",
        "elevator = Elevator(-1, 10, 0)"
      ],
      "execution_count": null,
      "outputs": []
    },
    {
      "cell_type": "markdown",
      "metadata": {
        "id": "4YkidBWnDaRd"
      },
      "source": [
        "This class is pretty empty and doesn't do much.  To test whether your *Elevator* class is working correctly, run the code blocks below."
      ]
    },
    {
      "cell_type": "code",
      "metadata": {
        "id": "vO5OefoDDaRf",
        "outputId": "ef14d9e6-d7a3-4a52-9717-6e8445549e58"
      },
      "source": [
        "elevator.up() \n",
        "elevator.current #should output 1"
      ],
      "execution_count": null,
      "outputs": [
        {
          "output_type": "execute_result",
          "data": {
            "text/plain": "1"
          },
          "metadata": {},
          "execution_count": 2
        }
      ]
    },
    {
      "cell_type": "code",
      "metadata": {
        "id": "z-MoXubrDaRm",
        "outputId": "3d10f347-7b6b-4e4a-d339-1e4946085b9e"
      },
      "source": [
        "elevator.down() \n",
        "elevator.current #should output 0"
      ],
      "execution_count": null,
      "outputs": [
        {
          "output_type": "execute_result",
          "data": {
            "text/plain": "0"
          },
          "metadata": {},
          "execution_count": 3
        }
      ]
    },
    {
      "cell_type": "code",
      "metadata": {
        "id": "CROW2BLcDaRp",
        "outputId": "9dcfdbaf-ec25-44f6-be6f-73c4e4f38d9c"
      },
      "source": [
        "elevator.go_to(10) \n",
        "elevator.current #should output 10"
      ],
      "execution_count": null,
      "outputs": [
        {
          "output_type": "execute_result",
          "data": {
            "text/plain": "10"
          },
          "metadata": {},
          "execution_count": 4
        }
      ]
    },
    {
      "cell_type": "markdown",
      "metadata": {
        "id": "G0ZhjsxuDaRs"
      },
      "source": [
        "If you get a **<font color =red>NameError</font>** message, be sure to run the *Elevator* class definition code block first. If you get an **<font color =red>AttributeError</font>** message, be sure to initialize *self.current* in your *Elevator* class."
      ]
    },
    {
      "cell_type": "markdown",
      "metadata": {
        "id": "-eJX_1LJDaRv"
      },
      "source": [
        "Once you've made the above methods output 1, 0 and 10, you've successfully coded the *Elevator* class and its methods. Great work!\n",
        "<br><br>\n",
        "For the up and down methods, did you take into account the top and bottom floors? Keep in mind that the elevator shouldn't go above the top floor or below the bottom floor. To check that out, try the code below and verify if it's working as expected. If it's not, then go back and modify the methods so that this code behaves correctly."
      ]
    },
    {
      "cell_type": "code",
      "metadata": {
        "tags": [],
        "id": "TD5ft59ZDaRy",
        "outputId": "49e0505e-8f08-4a52-f82c-07e3d01297c2"
      },
      "source": [
        "# Go to the top floor. Try to go up, it should stay. Then go down.\n",
        "elevator.go_to(10)\n",
        "elevator.up()\n",
        "elevator.down()\n",
        "print(elevator.current) # should be 9\n",
        "# Go to the bottom floor. Try to go down, it should stay. Then go up.\n",
        "elevator.go_to(-1)\n",
        "elevator.down()\n",
        "elevator.down()\n",
        "elevator.up()\n",
        "elevator.up()\n",
        "print(elevator.current) # should be 1"
      ],
      "execution_count": null,
      "outputs": [
        {
          "output_type": "stream",
          "name": "stdout",
          "text": "9\n1\n"
        }
      ]
    },
    {
      "cell_type": "markdown",
      "metadata": {
        "id": "yzWON1LwDaR1"
      },
      "source": [
        "Now add the __str__ method to your *Elevator* class definition above so that when printing the elevator using the **print( )** method, we get the current floor together with a message. For example, in the 5th floor it should say \"Current floor: 5\""
      ]
    },
    {
      "cell_type": "code",
      "metadata": {
        "tags": [],
        "id": "r5G6FUsuDaR3",
        "outputId": "a9326861-421e-438a-ce40-150655c68577"
      },
      "source": [
        "elevator.go_to(5)\n",
        "print(elevator)"
      ],
      "execution_count": null,
      "outputs": [
        {
          "output_type": "stream",
          "name": "stdout",
          "text": "<__main__.Elevator object at 0x7f4ff1767130>\n"
        }
      ]
    },
    {
      "cell_type": "markdown",
      "metadata": {
        "id": "lGRXvIe2DaR5"
      },
      "source": [
        "Remember, Python uses the default method, that prints the position where the object is stored in the computer’s memory.  If your output is something like: <br>\n",
        "> <__main__.Elevator object at 0x7ff6a9ff3fd0>\n",
        "\n",
        "Then you will need to add the special __str__ method, which returns the string that you want to print.  Try again until you get the desired output, \"Current floor: 5\"."
      ]
    },
    {
      "cell_type": "markdown",
      "metadata": {
        "id": "lDj3w3XeDaR7"
      },
      "source": [
        "Once you have successfully produced the desired output, you are all done with this practice notebook. Awesome!"
      ]
    }
  ]
}